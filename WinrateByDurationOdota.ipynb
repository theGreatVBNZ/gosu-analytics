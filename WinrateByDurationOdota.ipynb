{
 "cells": [
  {
   "cell_type": "markdown",
   "metadata": {},
   "source": [
    "## Зависимость вероятности победы персонажа от продолжительности матча\n",
    "По мотивам: https://www.reddit.com/r/DotA2/comments/8071nn/graphs_of_the_heroes_win_rate_based_on_game/ \n",
    "\n",
    "Аналогичный анализ можно провести по предметам, в репозитории имеется файл с описаниями `items.json`"
   ]
  },
  {
   "cell_type": "code",
   "execution_count": 1,
   "metadata": {},
   "outputs": [],
   "source": [
    "import json\n",
    "from IPython.display import display\n",
    "\n",
    "import pandas as pd\n",
    "import numpy as np\n",
    "from scipy.interpolate import interp1d\n",
    "import matplotlib.pyplot as plt\n",
    "\n",
    "from opendota import *"
   ]
  },
  {
   "cell_type": "code",
   "execution_count": 2,
   "metadata": {},
   "outputs": [],
   "source": [
    "PATH_HEROES_DESC = 'static/heroes.json'\n",
    "with open(PATH_HEROES_DESC, 'r') as json_file:\n",
    "    heroes = json.load(json_file)"
   ]
  },
  {
   "cell_type": "code",
   "execution_count": 3,
   "metadata": {},
   "outputs": [
    {
     "name": "stdout",
     "output_type": "stream",
     "text": [
      "{'antimage': '1', 'axe': '2', 'bane': '3', 'bloodseeker': '4', 'crystalmaiden': '5', 'drowranger': '6', 'earthshaker': '7', 'juggernaut': '8', 'mirana': '9', 'morphling': '10', 'nevermore': '11', 'phantomlancer': '12', 'puck': '13', 'pudge': '14', 'razor': '15', 'sandking': '16', 'stormspirit': '17', 'sven': '18', 'tiny': '19', 'vengefulspirit': '20', 'windrunner': '21', 'zuus': '22', 'kunkka': '23', 'lina': '25', 'lion': '26', 'shadowshaman': '27', 'slardar': '28', 'tidehunter': '29', 'witchdoctor': '30', 'lich': '31', 'riki': '32', 'enigma': '33', 'tinker': '34', 'sniper': '35', 'necrolyte': '36', 'warlock': '37', 'beastmaster': '38', 'queenofpain': '39', 'venomancer': '40', 'facelessvoid': '41', 'skeletonking': '42', 'deathprophet': '43', 'phantomassassin': '44', 'pugna': '45', 'templarassassin': '46', 'viper': '47', 'luna': '48', 'dragonknight': '49', 'dazzle': '50', 'rattletrap': '51', 'leshrac': '52', 'furion': '53', 'lifestealer': '54', 'darkseer': '55', 'clinkz': '56', 'omniknight': '57', 'enchantress': '58', 'huskar': '59', 'nightstalker': '60', 'broodmother': '61', 'bountyhunter': '62', 'weaver': '63', 'jakiro': '64', 'batrider': '65', 'chen': '66', 'spectre': '67', 'ancientapparition': '68', 'doombringer': '69', 'ursa': '70', 'spiritbreaker': '71', 'gyrocopter': '72', 'alchemist': '73', 'invoker': '74', 'silencer': '75', 'obsidiandestroyer': '76', 'lycan': '77', 'brewmaster': '78', 'shadowdemon': '79', 'lonedruid': '80', 'chaosknight': '81', 'meepo': '82', 'treant': '83', 'ogremagi': '84', 'undying': '85', 'rubick': '86', 'disruptor': '87', 'nyxassassin': '88', 'nagasiren': '89', 'keeperofthelight': '90', 'wisp': '91', 'visage': '92', 'slark': '93', 'medusa': '94', 'trollwarlord': '95', 'centaur': '96', 'magnataur': '97', 'shredder': '98', 'bristleback': '99', 'tusk': '100', 'skywrathmage': '101', 'abaddon': '102', 'eldertitan': '103', 'legioncommander': '104', 'techies': '105', 'emberspirit': '106', 'earthspirit': '107', 'abyssalunderlord': '108', 'terrorblade': '109', 'phoenix': '110', 'oracle': '111', 'winterwyvern': '112', 'arcwarden': '113', 'monkeyking': '114', 'darkwillow': '119', 'pangolier': '120'}\n"
     ]
    }
   ],
   "source": [
    "heroid2name = {k: v['name'] for k, v in heroes.items()}\n",
    "heroname2id = {v.replace('_', '').replace('npcdotahero', ''): k for k, v in heroid2name.items()}\n",
    "print(heroname2id)"
   ]
  },
  {
   "cell_type": "code",
   "execution_count": 4,
   "metadata": {},
   "outputs": [],
   "source": [
    "def hero_info(some_identifier):\n",
    "    some_identifier = str(some_identifier)\n",
    "    if some_identifier.isdigit():\n",
    "        hero_id = some_identifier\n",
    "        hero = heroid2name[hero_id].replace('npc_dota_hero_', '')\n",
    "    else:\n",
    "        hero = some_identifier\n",
    "        hero_id = heroname2id[some_identifier]\n",
    "    return hero_id, hero"
   ]
  },
  {
   "cell_type": "code",
   "execution_count": 5,
   "metadata": {},
   "outputs": [],
   "source": [
    "def hero_matches(hero_id, n=1000):\n",
    "    \"\"\"\n",
    "    Возвращает матчи, в которых присутствовал данный персонаж\n",
    "    \"\"\"\n",
    "    q = '''\n",
    "    select\n",
    "        matches.duration,\n",
    "        matches.match_id,\n",
    "        matches.start_time,\n",
    "        ((player_matches.player_slot < 128) = matches.radiant_win) win,\n",
    "        player_matches.hero_id,\n",
    "        match_patch.patch\n",
    "    from matches \n",
    "        join player_matches using(match_id)\n",
    "        join match_patch using(match_id)\n",
    "    where \n",
    "        duration is not null and\n",
    "        --match_patch.patch >= '7.09' and\n",
    "        player_matches.hero_id = '{}'     \n",
    "    limit {}\n",
    "    '''.format(hero_id, n)\n",
    "    \n",
    "    return query_opendota(q) "
   ]
  },
  {
   "cell_type": "code",
   "execution_count": 6,
   "metadata": {},
   "outputs": [],
   "source": [
    "def hero_winrate(hero_id, n_matches=1000, periods=10, \n",
    "        min_minutes_duration=None, max_minutes_duration=None):\n",
    "    \"\"\"\n",
    "    Разбивает время на периоды, для каждого периода подсчитывает винрейт персонажа\n",
    "    :param min_minutes_duration: минимальная продолжительность матча\n",
    "    :param max_minutes_duration: максимальная продолжительность матча\n",
    "    \"\"\"\n",
    "    df_matches = hero_matches(hero_id, n_matches)\n",
    "    n_matches_actual = df_matches.shape[0]\n",
    "    df_matches['duration_minutes'] = (df_matches.duration // 60)\n",
    "    \n",
    "    if min_minutes_duration is not None:\n",
    "        df_matches = df_matches.query(\n",
    "            'duration_minutes >= {}'.format(min_minutes_duration)).copy()\n",
    "    \n",
    "    if max_minutes_duration is not None:\n",
    "        df_matches = df_matches.query(\n",
    "            'duration_minutes <= {}'.format(max_minutes_duration)).copy()\n",
    "    \n",
    "    df_matches['duration_period'] = pd.cut(df_matches.duration_minutes, bins=periods)\n",
    "    boundaries = pd.cut(\n",
    "        df_matches.duration_minutes, bins=periods, retbins=True)[1][1:].astype('int64')\n",
    "\n",
    "    df_hero_summary = (\n",
    "        df_matches\n",
    "        .groupby(['duration_period', 'win'], as_index=False)\n",
    "        .count()\n",
    "        [['duration_period', 'win', 'match_id']]\n",
    "        .rename(columns={'match_id': 'counter'}))\n",
    "\n",
    "    s_wins = df_hero_summary.set_index('duration_period').query('win').counter\n",
    "    s_total = df_hero_summary.groupby('duration_period').sum().counter\n",
    "    winrate = s_wins / s_total\n",
    "    winrate = pd.DataFrame(winrate).rename(columns={'counter': 'winrate'}).fillna(0)\n",
    "    return winrate, n_matches_actual, boundaries"
   ]
  },
  {
   "cell_type": "code",
   "execution_count": 19,
   "metadata": {},
   "outputs": [],
   "source": [
    "def plot_winrate(hero, winrate, n_matches, boundaries):\n",
    "    winrate = winrate.set_index(boundaries).copy()\n",
    "    \n",
    "    # Smooth version, comment if doesn't work\n",
    "    xnew = np.linspace(boundaries.min(), boundaries.max(), num=100, endpoint=True)\n",
    "    smooth = interp1d(boundaries, winrate.winrate, kind='cubic')\n",
    "    winrate = pd.DataFrame(dict(xnew=xnew, winrate=smooth(xnew))).set_index('xnew')\n",
    "    # --------------\n",
    "    \n",
    "    fig, ax = plt.subplots(figsize=(8, 5))\n",
    "    \n",
    "    # Base Line winrate = 0.5\n",
    "    plt.plot(\n",
    "        winrate.index, [0.5] * winrate.index.shape[0], \n",
    "        ls=':', linewidth=2,)\n",
    "    \n",
    "    # Winrate plot\n",
    "    title = 'Winrate by match duration \\nHero: {} \\nBased on: {} matches'\n",
    "    title = title.format(hero, n_matches)\n",
    "    winrate.plot(\n",
    "        # Line style\n",
    "        kind='line',\n",
    "        linewidth=4,\n",
    "        color='darkblue',\n",
    "\n",
    "        # Figure\n",
    "        title=title,\n",
    "        rot=75,\n",
    "        ax=ax,\n",
    "        yticks=np.arange(0, 1, 0.1),\n",
    "        xticks=boundaries,\n",
    "    )\n",
    "    plt.xlabel('Match Duration in minutes')\n",
    "    plt.ylabel('Win Rate')\n",
    "    ax.fill_between(winrate.index, winrate.winrate, facecolor='lavender', interpolate=True)\n",
    "    plt.grid('on')\n",
    "    plt.show()"
   ]
  },
  {
   "cell_type": "code",
   "execution_count": 20,
   "metadata": {},
   "outputs": [],
   "source": [
    "def winrate_analysis(hero_identifier):\n",
    "    hero_id, hero = hero_info(hero_identifier)\n",
    "    winrate, n_matches_actual, boundaries = hero_winrate(\n",
    "        hero_id, n_matches=5000, periods=10, min_minutes_duration=10, max_minutes_duration=60)\n",
    "    plot_winrate(hero, winrate, n_matches_actual, boundaries)\n",
    "    display(winrate)"
   ]
  },
  {
   "cell_type": "code",
   "execution_count": 18,
   "metadata": {},
   "outputs": [
    {
     "data": {
      "image/png": "[encoded data removed]",
      "text/plain": [
       "<matplotlib.figure.Figure at 0x116065d30>"
      ]
     },
     "metadata": {},
     "output_type": "display_data"
    },
    {
     "data": {
      "text/html": [
       "<div>\n",
       "<style scoped>\n",
       "    .dataframe tbody tr th:only-of-type {\n",
       "        vertical-align: middle;\n",
       "    }\n",
       "\n",
       "    .dataframe tbody tr th {\n",
       "        vertical-align: top;\n",
       "    }\n",
       "\n",
       "    .dataframe thead th {\n",
       "        text-align: right;\n",
       "    }\n",
       "</style>\n",
       "<table border=\"1\" class=\"dataframe\">\n",
       "  <thead>\n",
       "    <tr style=\"text-align: right;\">\n",
       "      <th></th>\n",
       "      <th>winrate</th>\n",
       "    </tr>\n",
       "    <tr>\n",
       "      <th>duration_period</th>\n",
       "      <th></th>\n",
       "    </tr>\n",
       "  </thead>\n",
       "  <tbody>\n",
       "    <tr>\n",
       "      <th>(9.95, 15.0]</th>\n",
       "      <td>0.483333</td>\n",
       "    </tr>\n",
       "    <tr>\n",
       "      <th>(15.0, 20.0]</th>\n",
       "      <td>0.368132</td>\n",
       "    </tr>\n",
       "    <tr>\n",
       "      <th>(20.0, 25.0]</th>\n",
       "      <td>0.346253</td>\n",
       "    </tr>\n",
       "    <tr>\n",
       "      <th>(25.0, 30.0]</th>\n",
       "      <td>0.432647</td>\n",
       "    </tr>\n",
       "    <tr>\n",
       "      <th>(30.0, 35.0]</th>\n",
       "      <td>0.526080</td>\n",
       "    </tr>\n",
       "    <tr>\n",
       "      <th>(35.0, 40.0]</th>\n",
       "      <td>0.596715</td>\n",
       "    </tr>\n",
       "    <tr>\n",
       "      <th>(40.0, 45.0]</th>\n",
       "      <td>0.570755</td>\n",
       "    </tr>\n",
       "    <tr>\n",
       "      <th>(45.0, 50.0]</th>\n",
       "      <td>0.602041</td>\n",
       "    </tr>\n",
       "    <tr>\n",
       "      <th>(50.0, 55.0]</th>\n",
       "      <td>0.540107</td>\n",
       "    </tr>\n",
       "    <tr>\n",
       "      <th>(55.0, 60.0]</th>\n",
       "      <td>0.457143</td>\n",
       "    </tr>\n",
       "  </tbody>\n",
       "</table>\n",
       "</div>"
      ],
      "text/plain": [
       "                  winrate\n",
       "duration_period          \n",
       "(9.95, 15.0]     0.483333\n",
       "(15.0, 20.0]     0.368132\n",
       "(20.0, 25.0]     0.346253\n",
       "(25.0, 30.0]     0.432647\n",
       "(30.0, 35.0]     0.526080\n",
       "(35.0, 40.0]     0.596715\n",
       "(40.0, 45.0]     0.570755\n",
       "(45.0, 50.0]     0.602041\n",
       "(50.0, 55.0]     0.540107\n",
       "(55.0, 60.0]     0.457143"
      ]
     },
     "metadata": {},
     "output_type": "display_data"
    }
   ],
   "source": [
    "winrate_analysis('antimage')"
   ]
  },
  {
   "cell_type": "code",
   "execution_count": 14,
   "metadata": {},
   "outputs": [
    {
     "data": {
      "image/png": "[encoded data removed]",
      "text/plain": [
       "<matplotlib.figure.Figure at 0x115e7a978>"
      ]
     },
     "metadata": {},
     "output_type": "display_data"
    },
    {
     "data": {
      "text/html": [
       "<div>\n",
       "<style scoped>\n",
       "    .dataframe tbody tr th:only-of-type {\n",
       "        vertical-align: middle;\n",
       "    }\n",
       "\n",
       "    .dataframe tbody tr th {\n",
       "        vertical-align: top;\n",
       "    }\n",
       "\n",
       "    .dataframe thead th {\n",
       "        text-align: right;\n",
       "    }\n",
       "</style>\n",
       "<table border=\"1\" class=\"dataframe\">\n",
       "  <thead>\n",
       "    <tr style=\"text-align: right;\">\n",
       "      <th></th>\n",
       "      <th>winrate</th>\n",
       "    </tr>\n",
       "    <tr>\n",
       "      <th>duration_period</th>\n",
       "      <th></th>\n",
       "    </tr>\n",
       "  </thead>\n",
       "  <tbody>\n",
       "    <tr>\n",
       "      <th>(9.95, 15.0]</th>\n",
       "      <td>0.778523</td>\n",
       "    </tr>\n",
       "    <tr>\n",
       "      <th>(15.0, 20.0]</th>\n",
       "      <td>0.682667</td>\n",
       "    </tr>\n",
       "    <tr>\n",
       "      <th>(20.0, 25.0]</th>\n",
       "      <td>0.626374</td>\n",
       "    </tr>\n",
       "    <tr>\n",
       "      <th>(25.0, 30.0]</th>\n",
       "      <td>0.601810</td>\n",
       "    </tr>\n",
       "    <tr>\n",
       "      <th>(30.0, 35.0]</th>\n",
       "      <td>0.563700</td>\n",
       "    </tr>\n",
       "    <tr>\n",
       "      <th>(35.0, 40.0]</th>\n",
       "      <td>0.511152</td>\n",
       "    </tr>\n",
       "    <tr>\n",
       "      <th>(40.0, 45.0]</th>\n",
       "      <td>0.484293</td>\n",
       "    </tr>\n",
       "    <tr>\n",
       "      <th>(45.0, 50.0]</th>\n",
       "      <td>0.472727</td>\n",
       "    </tr>\n",
       "    <tr>\n",
       "      <th>(50.0, 55.0]</th>\n",
       "      <td>0.552795</td>\n",
       "    </tr>\n",
       "    <tr>\n",
       "      <th>(55.0, 60.0]</th>\n",
       "      <td>0.525424</td>\n",
       "    </tr>\n",
       "  </tbody>\n",
       "</table>\n",
       "</div>"
      ],
      "text/plain": [
       "                  winrate\n",
       "duration_period          \n",
       "(9.95, 15.0]     0.778523\n",
       "(15.0, 20.0]     0.682667\n",
       "(20.0, 25.0]     0.626374\n",
       "(25.0, 30.0]     0.601810\n",
       "(30.0, 35.0]     0.563700\n",
       "(35.0, 40.0]     0.511152\n",
       "(40.0, 45.0]     0.484293\n",
       "(45.0, 50.0]     0.472727\n",
       "(50.0, 55.0]     0.552795\n",
       "(55.0, 60.0]     0.525424"
      ]
     },
     "metadata": {},
     "output_type": "display_data"
    }
   ],
   "source": [
    "winrate_analysis(66)"
   ]
  },
  {
   "cell_type": "code",
   "execution_count": null,
   "metadata": {},
   "outputs": [],
   "source": []
  }
 ],
 "metadata": {
  "kernelspec": {
   "display_name": "Python 3",
   "language": "python",
   "name": "python3"
  },
  "language_info": {
   "codemirror_mode": {
    "name": "ipython",
    "version": 3
   },
   "file_extension": ".py",
   "mimetype": "text/x-python",
   "name": "python",
   "nbconvert_exporter": "python",
   "pygments_lexer": "ipython3",
   "version": "3.6.3"
  }
 },
 "nbformat": 4,
 "nbformat_minor": 2
}
