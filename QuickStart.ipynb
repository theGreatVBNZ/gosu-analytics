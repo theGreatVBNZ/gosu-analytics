{
 "cells": [
  {
   "cell_type": "markdown",
   "metadata": {},
   "source": [
    "# Quick Start"
   ]
  },
  {
   "cell_type": "markdown",
   "metadata": {},
   "source": [
    "Загружаем нужные библиотеки."
   ]
  },
  {
   "cell_type": "code",
   "execution_count": 1,
   "metadata": {},
   "outputs": [],
   "source": [
    "import requests\n",
    "import pandas as pd\n",
    "\n",
    "from opendota import(\n",
    "    query_opendota,\n",
    ")"
   ]
  },
  {
   "cell_type": "markdown",
   "metadata": {},
   "source": [
    "SQL-запрос к базе OpenDota: https://www.opendota.com/explorer\n",
    "\n",
    "P.S. Если сначала выбрать что-то в полях, а затем нажать Toggle SQL, то автоматически сформируется нужный запрос\n",
    "\n",
    "Схема БД: https://github.com/odota/core/blob/master/sql/create_tables.sql"
   ]
  },
  {
   "cell_type": "code",
   "execution_count": 2,
   "metadata": {},
   "outputs": [],
   "source": [
    "ODOTA_QUERY = ''' \n",
    "SELECT\n",
    "    matches.*,\n",
    "    player_matches.*,\n",
    "    ((player_matches.player_slot < 128) = matches.radiant_win) win,\n",
    "    leagues.name leaguename\n",
    "FROM \n",
    "    matches\n",
    "        JOIN\n",
    "            match_patch using(match_id)\n",
    "        JOIN \n",
    "            leagues using(leagueid)\n",
    "        JOIN \n",
    "            player_matches using(match_id)\n",
    "        JOIN \n",
    "            heroes on heroes.id = player_matches.hero_id\n",
    "        LEFT JOIN\n",
    "            notable_players ON notable_players.account_id = player_matches.account_id AND notable_players.locked_until = (SELECT MAX(locked_until) FROM notable_players)\n",
    "        LEFT JOIN \n",
    "            teams using(team_id)\n",
    "WHERE TRUE\n",
    "ORDER BY matches.match_id DESC NULLS LAST\n",
    "LIMIT 200\n",
    "'''"
   ]
  },
  {
   "cell_type": "markdown",
   "metadata": {},
   "source": [
    "Используем функцию query_opendota, которая принимает на вход запрос и возвращает pandas.DataFrame()"
   ]
  },
  {
   "cell_type": "code",
   "execution_count": 3,
   "metadata": {},
   "outputs": [
    {
     "data": {
      "text/html": [
       "<div>\n",
       "<style scoped>\n",
       "    .dataframe tbody tr th:only-of-type {\n",
       "        vertical-align: middle;\n",
       "    }\n",
       "\n",
       "    .dataframe tbody tr th {\n",
       "        vertical-align: top;\n",
       "    }\n",
       "\n",
       "    .dataframe thead th {\n",
       "        text-align: right;\n",
       "    }\n",
       "</style>\n",
       "<table border=\"1\" class=\"dataframe\">\n",
       "  <thead>\n",
       "    <tr style=\"text-align: right;\">\n",
       "      <th></th>\n",
       "      <th>ability_upgrades_arr</th>\n",
       "      <th>ability_uses</th>\n",
       "      <th>account_id</th>\n",
       "      <th>actions</th>\n",
       "      <th>additional_units</th>\n",
       "      <th>assists</th>\n",
       "      <th>backpack_0</th>\n",
       "      <th>backpack_1</th>\n",
       "      <th>backpack_2</th>\n",
       "      <th>barracks_status_dire</th>\n",
       "      <th>...</th>\n",
       "      <th>times</th>\n",
       "      <th>tower_damage</th>\n",
       "      <th>tower_status_dire</th>\n",
       "      <th>tower_status_radiant</th>\n",
       "      <th>towers_killed</th>\n",
       "      <th>version</th>\n",
       "      <th>win</th>\n",
       "      <th>xp_per_min</th>\n",
       "      <th>xp_reasons</th>\n",
       "      <th>xp_t</th>\n",
       "    </tr>\n",
       "  </thead>\n",
       "  <tbody>\n",
       "    <tr>\n",
       "      <th>0</th>\n",
       "      <td>[5439, 5440, 5438, 5440, 5440, 5441, 5440, 543...</td>\n",
       "      <td>None</td>\n",
       "      <td>254025588</td>\n",
       "      <td>None</td>\n",
       "      <td>None</td>\n",
       "      <td>6</td>\n",
       "      <td>0</td>\n",
       "      <td>0</td>\n",
       "      <td>0</td>\n",
       "      <td>63</td>\n",
       "      <td>...</td>\n",
       "      <td>None</td>\n",
       "      <td>0</td>\n",
       "      <td>2038</td>\n",
       "      <td>1792</td>\n",
       "      <td>NaN</td>\n",
       "      <td>NaN</td>\n",
       "      <td>False</td>\n",
       "      <td>218</td>\n",
       "      <td>None</td>\n",
       "      <td>None</td>\n",
       "    </tr>\n",
       "    <tr>\n",
       "      <th>1</th>\n",
       "      <td>[5448, 5450, 5450, 5448, 5450, 5452, 5450, 544...</td>\n",
       "      <td>None</td>\n",
       "      <td>129071882</td>\n",
       "      <td>None</td>\n",
       "      <td>None</td>\n",
       "      <td>8</td>\n",
       "      <td>0</td>\n",
       "      <td>0</td>\n",
       "      <td>0</td>\n",
       "      <td>63</td>\n",
       "      <td>...</td>\n",
       "      <td>None</td>\n",
       "      <td>0</td>\n",
       "      <td>2038</td>\n",
       "      <td>1792</td>\n",
       "      <td>NaN</td>\n",
       "      <td>NaN</td>\n",
       "      <td>False</td>\n",
       "      <td>271</td>\n",
       "      <td>None</td>\n",
       "      <td>None</td>\n",
       "    </tr>\n",
       "    <tr>\n",
       "      <th>2</th>\n",
       "      <td>[5401, 5402, 5400, 5400, 5400, 5403, 5400, 540...</td>\n",
       "      <td>None</td>\n",
       "      <td>234699894</td>\n",
       "      <td>None</td>\n",
       "      <td>None</td>\n",
       "      <td>6</td>\n",
       "      <td>46</td>\n",
       "      <td>0</td>\n",
       "      <td>34</td>\n",
       "      <td>63</td>\n",
       "      <td>...</td>\n",
       "      <td>None</td>\n",
       "      <td>353</td>\n",
       "      <td>2038</td>\n",
       "      <td>1792</td>\n",
       "      <td>NaN</td>\n",
       "      <td>NaN</td>\n",
       "      <td>False</td>\n",
       "      <td>421</td>\n",
       "      <td>None</td>\n",
       "      <td>None</td>\n",
       "    </tr>\n",
       "    <tr>\n",
       "      <th>3</th>\n",
       "      <td>[5685, 5090, 5090, 5685, 5090, 5093, 5090, 509...</td>\n",
       "      <td>None</td>\n",
       "      <td>237238721</td>\n",
       "      <td>None</td>\n",
       "      <td>None</td>\n",
       "      <td>7</td>\n",
       "      <td>0</td>\n",
       "      <td>0</td>\n",
       "      <td>46</td>\n",
       "      <td>63</td>\n",
       "      <td>...</td>\n",
       "      <td>None</td>\n",
       "      <td>1742</td>\n",
       "      <td>2038</td>\n",
       "      <td>1792</td>\n",
       "      <td>NaN</td>\n",
       "      <td>NaN</td>\n",
       "      <td>False</td>\n",
       "      <td>449</td>\n",
       "      <td>None</td>\n",
       "      <td>None</td>\n",
       "    </tr>\n",
       "    <tr>\n",
       "      <th>4</th>\n",
       "      <td>[5505, 5505, 5506, 5506, 5505, 5505, 5504, 550...</td>\n",
       "      <td>None</td>\n",
       "      <td>11865327</td>\n",
       "      <td>None</td>\n",
       "      <td>None</td>\n",
       "      <td>3</td>\n",
       "      <td>46</td>\n",
       "      <td>0</td>\n",
       "      <td>0</td>\n",
       "      <td>63</td>\n",
       "      <td>...</td>\n",
       "      <td>None</td>\n",
       "      <td>0</td>\n",
       "      <td>2038</td>\n",
       "      <td>1792</td>\n",
       "      <td>NaN</td>\n",
       "      <td>NaN</td>\n",
       "      <td>False</td>\n",
       "      <td>537</td>\n",
       "      <td>None</td>\n",
       "      <td>None</td>\n",
       "    </tr>\n",
       "  </tbody>\n",
       "</table>\n",
       "<p>5 rows × 118 columns</p>\n",
       "</div>"
      ],
      "text/plain": [
       "                                ability_upgrades_arr ability_uses  account_id  \\\n",
       "0  [5439, 5440, 5438, 5440, 5440, 5441, 5440, 543...         None   254025588   \n",
       "1  [5448, 5450, 5450, 5448, 5450, 5452, 5450, 544...         None   129071882   \n",
       "2  [5401, 5402, 5400, 5400, 5400, 5403, 5400, 540...         None   234699894   \n",
       "3  [5685, 5090, 5090, 5685, 5090, 5093, 5090, 509...         None   237238721   \n",
       "4  [5505, 5505, 5506, 5506, 5505, 5505, 5504, 550...         None    11865327   \n",
       "\n",
       "  actions additional_units  assists  backpack_0  backpack_1  backpack_2  \\\n",
       "0    None             None        6           0           0           0   \n",
       "1    None             None        8           0           0           0   \n",
       "2    None             None        6          46           0          34   \n",
       "3    None             None        7           0           0          46   \n",
       "4    None             None        3          46           0           0   \n",
       "\n",
       "   barracks_status_dire  ...   times tower_damage  tower_status_dire  \\\n",
       "0                    63  ...    None            0               2038   \n",
       "1                    63  ...    None            0               2038   \n",
       "2                    63  ...    None          353               2038   \n",
       "3                    63  ...    None         1742               2038   \n",
       "4                    63  ...    None            0               2038   \n",
       "\n",
       "  tower_status_radiant  towers_killed version    win xp_per_min xp_reasons  \\\n",
       "0                 1792            NaN     NaN  False        218       None   \n",
       "1                 1792            NaN     NaN  False        271       None   \n",
       "2                 1792            NaN     NaN  False        421       None   \n",
       "3                 1792            NaN     NaN  False        449       None   \n",
       "4                 1792            NaN     NaN  False        537       None   \n",
       "\n",
       "   xp_t  \n",
       "0  None  \n",
       "1  None  \n",
       "2  None  \n",
       "3  None  \n",
       "4  None  \n",
       "\n",
       "[5 rows x 118 columns]"
      ]
     },
     "execution_count": 3,
     "metadata": {},
     "output_type": "execute_result"
    }
   ],
   "source": [
    "df_matches = query_opendota(ODOTA_QUERY)\n",
    "df_matches.head()"
   ]
  },
  {
   "cell_type": "markdown",
   "metadata": {},
   "source": [
    "Смотрим что там в интересного в данных"
   ]
  },
  {
   "cell_type": "code",
   "execution_count": 4,
   "metadata": {
    "scrolled": true
   },
   "outputs": [
    {
     "data": {
      "text/plain": [
       "Index(['ability_upgrades_arr', 'ability_uses', 'account_id', 'actions',\n",
       "       'additional_units', 'assists', 'backpack_0', 'backpack_1', 'backpack_2',\n",
       "       'barracks_status_dire',\n",
       "       ...\n",
       "       'times', 'tower_damage', 'tower_status_dire', 'tower_status_radiant',\n",
       "       'towers_killed', 'version', 'win', 'xp_per_min', 'xp_reasons', 'xp_t'],\n",
       "      dtype='object', length=118)"
      ]
     },
     "execution_count": 4,
     "metadata": {},
     "output_type": "execute_result"
    }
   ],
   "source": [
    "df_matches.columns"
   ]
  },
  {
   "cell_type": "markdown",
   "metadata": {},
   "source": [
    "Найти нужного игрока можно по account_id"
   ]
  },
  {
   "cell_type": "code",
   "execution_count": 5,
   "metadata": {},
   "outputs": [
    {
     "name": "stdout",
     "output_type": "stream",
     "text": [
      "https://www.dotabuff.com/players/20421681\n",
      "https://www.opendota.com/players/20421681\n"
     ]
    }
   ],
   "source": [
    "account_id = 20421681\n",
    "dotabuff_player = 'https://www.dotabuff.com/players/'\n",
    "opendota_player = 'https://www.opendota.com/players/'\n",
    "dotabuff_url = '{}{}'.format(dotabuff_player, account_id)\n",
    "opendota_url = '{}{}'.format(opendota_player, account_id)\n",
    "print(dotabuff_url)\n",
    "print(opendota_url)"
   ]
  },
  {
   "cell_type": "markdown",
   "metadata": {},
   "source": [
    "Матч можно искать по match_id"
   ]
  },
  {
   "cell_type": "code",
   "execution_count": 6,
   "metadata": {},
   "outputs": [
    {
     "name": "stdout",
     "output_type": "stream",
     "text": [
      "https://www.dotabuff.com/matches/3458810313\n",
      "https://www.opendota.com/matches/3458810313\n"
     ]
    }
   ],
   "source": [
    "match_id = 3458810313\n",
    "dotabuff_match = 'https://www.dotabuff.com/matches/'\n",
    "opendota_match = 'https://www.opendota.com/matches/'\n",
    "db_url = '{}{}'.format(dotabuff_match, match_id)\n",
    "odota_url = '{}{}'.format(opendota_match, match_id)\n",
    "print(db_url)\n",
    "print(odota_url)"
   ]
  },
  {
   "cell_type": "markdown",
   "metadata": {},
   "source": [
    "Внутри матча каждый игрок сидит на одном из 10 слотов.\n",
    "\n",
    "У нормальных людей слоты изменяются от 0 до 9,\n",
    "\n",
    "У opendota слоты в рамках одного матча изменяются от 0 до 4 - The Radiant, а далее от 128 до 132 - The Dire"
   ]
  },
  {
   "cell_type": "code",
   "execution_count": 7,
   "metadata": {},
   "outputs": [
    {
     "data": {
      "text/html": [
       "<div>\n",
       "<style scoped>\n",
       "    .dataframe tbody tr th:only-of-type {\n",
       "        vertical-align: middle;\n",
       "    }\n",
       "\n",
       "    .dataframe tbody tr th {\n",
       "        vertical-align: top;\n",
       "    }\n",
       "\n",
       "    .dataframe thead th {\n",
       "        text-align: right;\n",
       "    }\n",
       "</style>\n",
       "<table border=\"1\" class=\"dataframe\">\n",
       "  <thead>\n",
       "    <tr style=\"text-align: right;\">\n",
       "      <th></th>\n",
       "      <th>account_id</th>\n",
       "      <th>match_id</th>\n",
       "      <th>player_slot</th>\n",
       "    </tr>\n",
       "  </thead>\n",
       "  <tbody>\n",
       "    <tr>\n",
       "      <th>0</th>\n",
       "      <td>254025588</td>\n",
       "      <td>3573137571</td>\n",
       "      <td>0</td>\n",
       "    </tr>\n",
       "    <tr>\n",
       "      <th>1</th>\n",
       "      <td>129071882</td>\n",
       "      <td>3573137571</td>\n",
       "      <td>1</td>\n",
       "    </tr>\n",
       "    <tr>\n",
       "      <th>2</th>\n",
       "      <td>234699894</td>\n",
       "      <td>3573137571</td>\n",
       "      <td>2</td>\n",
       "    </tr>\n",
       "    <tr>\n",
       "      <th>3</th>\n",
       "      <td>237238721</td>\n",
       "      <td>3573137571</td>\n",
       "      <td>3</td>\n",
       "    </tr>\n",
       "    <tr>\n",
       "      <th>4</th>\n",
       "      <td>11865327</td>\n",
       "      <td>3573137571</td>\n",
       "      <td>4</td>\n",
       "    </tr>\n",
       "    <tr>\n",
       "      <th>5</th>\n",
       "      <td>113372833</td>\n",
       "      <td>3573137571</td>\n",
       "      <td>128</td>\n",
       "    </tr>\n",
       "    <tr>\n",
       "      <th>6</th>\n",
       "      <td>35504297</td>\n",
       "      <td>3573137571</td>\n",
       "      <td>129</td>\n",
       "    </tr>\n",
       "    <tr>\n",
       "      <th>7</th>\n",
       "      <td>91932652</td>\n",
       "      <td>3573137571</td>\n",
       "      <td>130</td>\n",
       "    </tr>\n",
       "    <tr>\n",
       "      <th>8</th>\n",
       "      <td>298726580</td>\n",
       "      <td>3573137571</td>\n",
       "      <td>131</td>\n",
       "    </tr>\n",
       "    <tr>\n",
       "      <th>9</th>\n",
       "      <td>88826062</td>\n",
       "      <td>3573137571</td>\n",
       "      <td>132</td>\n",
       "    </tr>\n",
       "  </tbody>\n",
       "</table>\n",
       "</div>"
      ],
      "text/plain": [
       "   account_id    match_id  player_slot\n",
       "0   254025588  3573137571            0\n",
       "1   129071882  3573137571            1\n",
       "2   234699894  3573137571            2\n",
       "3   237238721  3573137571            3\n",
       "4    11865327  3573137571            4\n",
       "5   113372833  3573137571          128\n",
       "6    35504297  3573137571          129\n",
       "7    91932652  3573137571          130\n",
       "8   298726580  3573137571          131\n",
       "9    88826062  3573137571          132"
      ]
     },
     "execution_count": 7,
     "metadata": {},
     "output_type": "execute_result"
    }
   ],
   "source": [
    "df_matches[['account_id', 'match_id', 'player_slot']].head(10)"
   ]
  },
  {
   "cell_type": "markdown",
   "metadata": {},
   "source": [
    "Посчитаем кто больше всех нанес урона по вышкам в одном матче"
   ]
  },
  {
   "cell_type": "code",
   "execution_count": 8,
   "metadata": {},
   "outputs": [
    {
     "data": {
      "text/html": [
       "<div>\n",
       "<style scoped>\n",
       "    .dataframe tbody tr th:only-of-type {\n",
       "        vertical-align: middle;\n",
       "    }\n",
       "\n",
       "    .dataframe tbody tr th {\n",
       "        vertical-align: top;\n",
       "    }\n",
       "\n",
       "    .dataframe thead th {\n",
       "        text-align: right;\n",
       "    }\n",
       "</style>\n",
       "<table border=\"1\" class=\"dataframe\">\n",
       "  <thead>\n",
       "    <tr style=\"text-align: right;\">\n",
       "      <th></th>\n",
       "      <th>tower_damage</th>\n",
       "      <th>match_id</th>\n",
       "      <th>account_id</th>\n",
       "      <th>player_slot</th>\n",
       "    </tr>\n",
       "  </thead>\n",
       "  <tbody>\n",
       "    <tr>\n",
       "      <th>38</th>\n",
       "      <td>9868</td>\n",
       "      <td>3572702903</td>\n",
       "      <td>87586992</td>\n",
       "      <td>130</td>\n",
       "    </tr>\n",
       "    <tr>\n",
       "      <th>87</th>\n",
       "      <td>9759</td>\n",
       "      <td>3572702903</td>\n",
       "      <td>123051238</td>\n",
       "      <td>131</td>\n",
       "    </tr>\n",
       "    <tr>\n",
       "      <th>19</th>\n",
       "      <td>9365</td>\n",
       "      <td>3572628673</td>\n",
       "      <td>83074695</td>\n",
       "      <td>130</td>\n",
       "    </tr>\n",
       "    <tr>\n",
       "      <th>67</th>\n",
       "      <td>9242</td>\n",
       "      <td>3572696340</td>\n",
       "      <td>108376607</td>\n",
       "      <td>132</td>\n",
       "    </tr>\n",
       "    <tr>\n",
       "      <th>102</th>\n",
       "      <td>9154</td>\n",
       "      <td>3572814592</td>\n",
       "      <td>153749549</td>\n",
       "      <td>132</td>\n",
       "    </tr>\n",
       "  </tbody>\n",
       "</table>\n",
       "</div>"
      ],
      "text/plain": [
       "     tower_damage    match_id  account_id  player_slot\n",
       "38           9868  3572702903    87586992          130\n",
       "87           9759  3572702903   123051238          131\n",
       "19           9365  3572628673    83074695          130\n",
       "67           9242  3572696340   108376607          132\n",
       "102          9154  3572814592   153749549          132"
      ]
     },
     "execution_count": 8,
     "metadata": {},
     "output_type": "execute_result"
    }
   ],
   "source": [
    "df_best_tower_damage = (\n",
    "    df_matches\n",
    "    .groupby('account_id', as_index=False)\n",
    "    .max()\n",
    "    [['tower_damage', 'match_id', 'account_id', 'player_slot']]\n",
    "    .sort_values('tower_damage', ascending=False)\n",
    ")\n",
    "df_best_tower_damage.head()"
   ]
  },
  {
   "cell_type": "markdown",
   "metadata": {},
   "source": [
    "Посмотрим глазками на результат"
   ]
  },
  {
   "cell_type": "code",
   "execution_count": 9,
   "metadata": {},
   "outputs": [
    {
     "name": "stdout",
     "output_type": "stream",
     "text": [
      "https://www.dotabuff.com/matches/3572628673\n",
      "https://www.opendota.com/matches/3572628673\n"
     ]
    }
   ],
   "source": [
    "best_match_id = df_best_tower_damage.match_id[0]\n",
    "db_result_url = '{}{}'.format(dotabuff_match, best_match_id)\n",
    "result_url = '{}{}'.format(opendota_match, best_match_id)\n",
    "print(db_result_url)\n",
    "print(result_url)"
   ]
  }
 ],
 "metadata": {
  "kernelspec": {
   "display_name": "Python 3",
   "language": "python",
   "name": "python3"
  },
  "language_info": {
   "codemirror_mode": {
    "name": "ipython",
    "version": 3
   },
   "file_extension": ".py",
   "mimetype": "text/x-python",
   "name": "python",
   "nbconvert_exporter": "python",
   "pygments_lexer": "ipython3",
   "version": "3.6.3"
  }
 },
 "nbformat": 4,
 "nbformat_minor": 2
}
