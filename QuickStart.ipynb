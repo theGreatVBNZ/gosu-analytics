{
 "cells": [
  {
   "cell_type": "markdown",
   "metadata": {},
   "source": [
    "# Quick Start"
   ]
  },
  {
   "cell_type": "markdown",
   "metadata": {},
   "source": [
    "Загружаем нужные библиотеки."
   ]
  },
  {
   "cell_type": "code",
   "execution_count": 1,
   "metadata": {},
   "outputs": [],
   "source": [
    "import requests\n",
    "import pandas as pd\n",
    "\n",
    "from opendota import(\n",
    "    query_opendota,\n",
    ")"
   ]
  },
  {
   "cell_type": "markdown",
   "metadata": {},
   "source": [
    "SQL-запрос к базе OpenDota: https://www.opendota.com/explorer\n",
    "\n",
    "P.S. Если сначала выбрать что-то в полях, а затем нажать Toggle SQL, то автоматически сформируется нужный запрос\n",
    "\n",
    "Схема БД: https://github.com/odota/core/blob/master/sql/create_tables.sql"
   ]
  },
  {
   "cell_type": "code",
   "execution_count": 2,
   "metadata": {},
   "outputs": [],
   "source": [
    "ODOTA_QUERY = ''' \n",
    "SELECT\n",
    "    matches.*,\n",
    "    player_matches.*,\n",
    "    ((player_matches.player_slot < 128) = matches.radiant_win) win,\n",
    "    leagues.name leaguename\n",
    "FROM \n",
    "    matches\n",
    "        JOIN\n",
    "            match_patch using(match_id)\n",
    "        JOIN \n",
    "            leagues using(leagueid)\n",
    "        JOIN \n",
    "            player_matches using(match_id)\n",
    "        JOIN \n",
    "            heroes on heroes.id = player_matches.hero_id\n",
    "        LEFT JOIN\n",
    "            notable_players ON notable_players.account_id = player_matches.account_id AND notable_players.locked_until = (SELECT MAX(locked_until) FROM notable_players)\n",
    "        LEFT JOIN \n",
    "            teams using(team_id)\n",
    "WHERE TRUE\n",
    "ORDER BY matches.match_id DESC NULLS LAST\n",
    "LIMIT 200\n",
    "'''"
   ]
  },
  {
   "cell_type": "markdown",
   "metadata": {},
   "source": [
    "Используем функцию query_opendota, которая принимает на вход запрос и возвращает pandas.DataFrame()"
   ]
  },
  {
   "cell_type": "code",
   "execution_count": 3,
   "metadata": {},
   "outputs": [
    {
     "data": {
      "text/html": [
       "<div>\n",
       "<style scoped>\n",
       "    .dataframe tbody tr th:only-of-type {\n",
       "        vertical-align: middle;\n",
       "    }\n",
       "\n",
       "    .dataframe tbody tr th {\n",
       "        vertical-align: top;\n",
       "    }\n",
       "\n",
       "    .dataframe thead th {\n",
       "        text-align: right;\n",
       "    }\n",
       "</style>\n",
       "<table border=\"1\" class=\"dataframe\">\n",
       "  <thead>\n",
       "    <tr style=\"text-align: right;\">\n",
       "      <th></th>\n",
       "      <th>ability_upgrades_arr</th>\n",
       "      <th>ability_uses</th>\n",
       "      <th>account_id</th>\n",
       "      <th>actions</th>\n",
       "      <th>additional_units</th>\n",
       "      <th>assists</th>\n",
       "      <th>backpack_0</th>\n",
       "      <th>backpack_1</th>\n",
       "      <th>backpack_2</th>\n",
       "      <th>barracks_status_dire</th>\n",
       "      <th>...</th>\n",
       "      <th>times</th>\n",
       "      <th>tower_damage</th>\n",
       "      <th>tower_status_dire</th>\n",
       "      <th>tower_status_radiant</th>\n",
       "      <th>towers_killed</th>\n",
       "      <th>version</th>\n",
       "      <th>win</th>\n",
       "      <th>xp_per_min</th>\n",
       "      <th>xp_reasons</th>\n",
       "      <th>xp_t</th>\n",
       "    </tr>\n",
       "  </thead>\n",
       "  <tbody>\n",
       "    <tr>\n",
       "      <th>0</th>\n",
       "      <td>[5155, 5154, 5154, 5155, 5154, 5157, 5154, 515...</td>\n",
       "      <td>{'sniper_shrapnel': 21, 'sniper_assassinate': 5}</td>\n",
       "      <td>113372833</td>\n",
       "      <td>{'1': 4440, '2': 75, '3': 23, '4': 856, '5': 2...</td>\n",
       "      <td>None</td>\n",
       "      <td>4</td>\n",
       "      <td>0</td>\n",
       "      <td>0</td>\n",
       "      <td>0</td>\n",
       "      <td>63</td>\n",
       "      <td>...</td>\n",
       "      <td>[0, 60, 120, 180, 240, 300, 360, 420, 480, 540...</td>\n",
       "      <td>551</td>\n",
       "      <td>1982</td>\n",
       "      <td>1574</td>\n",
       "      <td>1.0</td>\n",
       "      <td>21.0</td>\n",
       "      <td>False</td>\n",
       "      <td>372</td>\n",
       "      <td>{'0': 159, '1': 1030, '2': 7427}</td>\n",
       "      <td>[0, 145, 658, 1112, 1483, 1753, 2292, 2555, 27...</td>\n",
       "    </tr>\n",
       "    <tr>\n",
       "      <th>1</th>\n",
       "      <td>[5069, 5072, 5069, 5071, 5069, 5073, 5069, 507...</td>\n",
       "      <td>{'puck_illusory_orb': 43, 'puck_ethereal_jaunt...</td>\n",
       "      <td>88826062</td>\n",
       "      <td>{'1': 1924, '3': 4, '4': 483, '5': 88, '6': 7,...</td>\n",
       "      <td>None</td>\n",
       "      <td>7</td>\n",
       "      <td>0</td>\n",
       "      <td>0</td>\n",
       "      <td>0</td>\n",
       "      <td>63</td>\n",
       "      <td>...</td>\n",
       "      <td>[0, 60, 120, 180, 240, 300, 360, 420, 480, 540...</td>\n",
       "      <td>914</td>\n",
       "      <td>1982</td>\n",
       "      <td>1574</td>\n",
       "      <td>0.0</td>\n",
       "      <td>21.0</td>\n",
       "      <td>False</td>\n",
       "      <td>504</td>\n",
       "      <td>{'0': 276, '1': 3786, '2': 7612}</td>\n",
       "      <td>[0, 240, 740, 1210, 1798, 2411, 2984, 3373, 38...</td>\n",
       "    </tr>\n",
       "    <tr>\n",
       "      <th>2</th>\n",
       "      <td>[5595, 5596, 5595, 5597, 5595, 5598, 5595, 559...</td>\n",
       "      <td>{'legion_commander_overwhelming_odds': 31, 'le...</td>\n",
       "      <td>91932652</td>\n",
       "      <td>{'1': 3707, '2': 10, '3': 109, '4': 619, '5': ...</td>\n",
       "      <td>None</td>\n",
       "      <td>8</td>\n",
       "      <td>11</td>\n",
       "      <td>0</td>\n",
       "      <td>0</td>\n",
       "      <td>63</td>\n",
       "      <td>...</td>\n",
       "      <td>[0, 60, 120, 180, 240, 300, 360, 420, 480, 540...</td>\n",
       "      <td>532</td>\n",
       "      <td>1982</td>\n",
       "      <td>1574</td>\n",
       "      <td>1.0</td>\n",
       "      <td>21.0</td>\n",
       "      <td>False</td>\n",
       "      <td>434</td>\n",
       "      <td>{'0': 560, '1': 1689, '2': 7803}</td>\n",
       "      <td>[0, 57, 258, 535, 673, 987, 1323, 1701, 1939, ...</td>\n",
       "    </tr>\n",
       "    <tr>\n",
       "      <th>3</th>\n",
       "      <td>[5102, 5104, 5102, 5103, 5102, 5105, 5102, 510...</td>\n",
       "      <td>{'sandking_burrowstrike': 23, 'sandking_sand_s...</td>\n",
       "      <td>66620961</td>\n",
       "      <td>{'1': 4021, '2': 48, '4': 206, '5': 26, '6': 1...</td>\n",
       "      <td>None</td>\n",
       "      <td>7</td>\n",
       "      <td>0</td>\n",
       "      <td>0</td>\n",
       "      <td>0</td>\n",
       "      <td>63</td>\n",
       "      <td>...</td>\n",
       "      <td>[0, 60, 120, 180, 240, 300, 360, 420, 480, 540...</td>\n",
       "      <td>0</td>\n",
       "      <td>1982</td>\n",
       "      <td>1574</td>\n",
       "      <td>0.0</td>\n",
       "      <td>21.0</td>\n",
       "      <td>False</td>\n",
       "      <td>328</td>\n",
       "      <td>{'0': 456, '1': 3025, '2': 4108}</td>\n",
       "      <td>[0, 0, 187, 289, 360, 463, 616, 902, 1092, 125...</td>\n",
       "    </tr>\n",
       "    <tr>\n",
       "      <th>4</th>\n",
       "      <td>[5458, 5459, 5459, 5460, 5459, 5461, 5459, 546...</td>\n",
       "      <td>{'disruptor_thunder_strike': 17, 'disruptor_gl...</td>\n",
       "      <td>91355855</td>\n",
       "      <td>{'1': 6505, '2': 98, '3': 10, '4': 466, '5': 4...</td>\n",
       "      <td>None</td>\n",
       "      <td>7</td>\n",
       "      <td>0</td>\n",
       "      <td>188</td>\n",
       "      <td>44</td>\n",
       "      <td>63</td>\n",
       "      <td>...</td>\n",
       "      <td>[0, 60, 120, 180, 240, 300, 360, 420, 480, 540...</td>\n",
       "      <td>0</td>\n",
       "      <td>1982</td>\n",
       "      <td>1574</td>\n",
       "      <td>0.0</td>\n",
       "      <td>21.0</td>\n",
       "      <td>False</td>\n",
       "      <td>220</td>\n",
       "      <td>{'0': 859, '1': 1533, '2': 2717}</td>\n",
       "      <td>[0, 0, 63, 130, 336, 435, 463, 631, 694, 830, ...</td>\n",
       "    </tr>\n",
       "  </tbody>\n",
       "</table>\n",
       "<p>5 rows × 118 columns</p>\n",
       "</div>"
      ],
      "text/plain": [
       "                                ability_upgrades_arr  \\\n",
       "0  [5155, 5154, 5154, 5155, 5154, 5157, 5154, 515...   \n",
       "1  [5069, 5072, 5069, 5071, 5069, 5073, 5069, 507...   \n",
       "2  [5595, 5596, 5595, 5597, 5595, 5598, 5595, 559...   \n",
       "3  [5102, 5104, 5102, 5103, 5102, 5105, 5102, 510...   \n",
       "4  [5458, 5459, 5459, 5460, 5459, 5461, 5459, 546...   \n",
       "\n",
       "                                        ability_uses  account_id  \\\n",
       "0   {'sniper_shrapnel': 21, 'sniper_assassinate': 5}   113372833   \n",
       "1  {'puck_illusory_orb': 43, 'puck_ethereal_jaunt...    88826062   \n",
       "2  {'legion_commander_overwhelming_odds': 31, 'le...    91932652   \n",
       "3  {'sandking_burrowstrike': 23, 'sandking_sand_s...    66620961   \n",
       "4  {'disruptor_thunder_strike': 17, 'disruptor_gl...    91355855   \n",
       "\n",
       "                                             actions additional_units  \\\n",
       "0  {'1': 4440, '2': 75, '3': 23, '4': 856, '5': 2...             None   \n",
       "1  {'1': 1924, '3': 4, '4': 483, '5': 88, '6': 7,...             None   \n",
       "2  {'1': 3707, '2': 10, '3': 109, '4': 619, '5': ...             None   \n",
       "3  {'1': 4021, '2': 48, '4': 206, '5': 26, '6': 1...             None   \n",
       "4  {'1': 6505, '2': 98, '3': 10, '4': 466, '5': 4...             None   \n",
       "\n",
       "   assists  backpack_0  backpack_1  backpack_2  barracks_status_dire  \\\n",
       "0        4           0           0           0                    63   \n",
       "1        7           0           0           0                    63   \n",
       "2        8          11           0           0                    63   \n",
       "3        7           0           0           0                    63   \n",
       "4        7           0         188          44                    63   \n",
       "\n",
       "                         ...                          \\\n",
       "0                        ...                           \n",
       "1                        ...                           \n",
       "2                        ...                           \n",
       "3                        ...                           \n",
       "4                        ...                           \n",
       "\n",
       "                                               times tower_damage  \\\n",
       "0  [0, 60, 120, 180, 240, 300, 360, 420, 480, 540...          551   \n",
       "1  [0, 60, 120, 180, 240, 300, 360, 420, 480, 540...          914   \n",
       "2  [0, 60, 120, 180, 240, 300, 360, 420, 480, 540...          532   \n",
       "3  [0, 60, 120, 180, 240, 300, 360, 420, 480, 540...            0   \n",
       "4  [0, 60, 120, 180, 240, 300, 360, 420, 480, 540...            0   \n",
       "\n",
       "   tower_status_dire tower_status_radiant  towers_killed version    win  \\\n",
       "0               1982                 1574            1.0    21.0  False   \n",
       "1               1982                 1574            0.0    21.0  False   \n",
       "2               1982                 1574            1.0    21.0  False   \n",
       "3               1982                 1574            0.0    21.0  False   \n",
       "4               1982                 1574            0.0    21.0  False   \n",
       "\n",
       "  xp_per_min                        xp_reasons  \\\n",
       "0        372  {'0': 159, '1': 1030, '2': 7427}   \n",
       "1        504  {'0': 276, '1': 3786, '2': 7612}   \n",
       "2        434  {'0': 560, '1': 1689, '2': 7803}   \n",
       "3        328  {'0': 456, '1': 3025, '2': 4108}   \n",
       "4        220  {'0': 859, '1': 1533, '2': 2717}   \n",
       "\n",
       "                                                xp_t  \n",
       "0  [0, 145, 658, 1112, 1483, 1753, 2292, 2555, 27...  \n",
       "1  [0, 240, 740, 1210, 1798, 2411, 2984, 3373, 38...  \n",
       "2  [0, 57, 258, 535, 673, 987, 1323, 1701, 1939, ...  \n",
       "3  [0, 0, 187, 289, 360, 463, 616, 902, 1092, 125...  \n",
       "4  [0, 0, 63, 130, 336, 435, 463, 631, 694, 830, ...  \n",
       "\n",
       "[5 rows x 118 columns]"
      ]
     },
     "execution_count": 3,
     "metadata": {},
     "output_type": "execute_result"
    }
   ],
   "source": [
    "df_matches = query_opendota(ODOTA_QUERY)\n",
    "df_matches.head()"
   ]
  },
  {
   "cell_type": "markdown",
   "metadata": {},
   "source": [
    "Смотрим что там в интересного в данных"
   ]
  },
  {
   "cell_type": "code",
   "execution_count": 4,
   "metadata": {
    "scrolled": true
   },
   "outputs": [
    {
     "data": {
      "text/plain": [
       "Index(['ability_upgrades_arr', 'ability_uses', 'account_id', 'actions',\n",
       "       'additional_units', 'assists', 'backpack_0', 'backpack_1', 'backpack_2',\n",
       "       'barracks_status_dire',\n",
       "       ...\n",
       "       'times', 'tower_damage', 'tower_status_dire', 'tower_status_radiant',\n",
       "       'towers_killed', 'version', 'win', 'xp_per_min', 'xp_reasons', 'xp_t'],\n",
       "      dtype='object', length=118)"
      ]
     },
     "execution_count": 4,
     "metadata": {},
     "output_type": "execute_result"
    }
   ],
   "source": [
    "df_matches.columns"
   ]
  },
  {
   "cell_type": "markdown",
   "metadata": {},
   "source": [
    "Найти нужного игрока можно по account_id"
   ]
  },
  {
   "cell_type": "code",
   "execution_count": 5,
   "metadata": {},
   "outputs": [
    {
     "name": "stdout",
     "output_type": "stream",
     "text": [
      "https://www.dotabuff.com/players/20421681\n",
      "https://www.opendota.com/players/20421681\n"
     ]
    }
   ],
   "source": [
    "account_id = 20421681\n",
    "dotabuff_player = 'https://www.dotabuff.com/players/'\n",
    "opendota_player = 'https://www.opendota.com/players/'\n",
    "dotabuff_url = '{}{}'.format(dotabuff_player, account_id)\n",
    "opendota_url = '{}{}'.format(opendota_player, account_id)\n",
    "print(dotabuff_url)\n",
    "print(opendota_url)"
   ]
  },
  {
   "cell_type": "markdown",
   "metadata": {},
   "source": [
    "Матч можно искать по match_id"
   ]
  },
  {
   "cell_type": "code",
   "execution_count": 6,
   "metadata": {},
   "outputs": [
    {
     "name": "stdout",
     "output_type": "stream",
     "text": [
      "https://www.dotabuff.com/matches/3458810313\n",
      "https://www.opendota.com/matches/3458810313\n"
     ]
    }
   ],
   "source": [
    "match_id = 3458810313\n",
    "dotabuff_match = 'https://www.dotabuff.com/matches/'\n",
    "opendota_match = 'https://www.opendota.com/matches/'\n",
    "db_url = '{}{}'.format(dotabuff_match, match_id)\n",
    "odota_url = '{}{}'.format(opendota_match, match_id)\n",
    "print(db_url)\n",
    "print(odota_url)"
   ]
  },
  {
   "cell_type": "markdown",
   "metadata": {},
   "source": [
    "Внутри матча каждый игрок сидит на одном из 10 слотов.\n",
    "\n",
    "У нормальных людей слоты изменяются от 0 до 9,\n",
    "\n",
    "У opendota слоты в рамках одного матча изменяются от 0 до 4 - The Radiant, а далее от 128 до 132 - The Dire"
   ]
  },
  {
   "cell_type": "code",
   "execution_count": 7,
   "metadata": {},
   "outputs": [
    {
     "data": {
      "text/html": [
       "<div>\n",
       "<style scoped>\n",
       "    .dataframe tbody tr th:only-of-type {\n",
       "        vertical-align: middle;\n",
       "    }\n",
       "\n",
       "    .dataframe tbody tr th {\n",
       "        vertical-align: top;\n",
       "    }\n",
       "\n",
       "    .dataframe thead th {\n",
       "        text-align: right;\n",
       "    }\n",
       "</style>\n",
       "<table border=\"1\" class=\"dataframe\">\n",
       "  <thead>\n",
       "    <tr style=\"text-align: right;\">\n",
       "      <th></th>\n",
       "      <th>account_id</th>\n",
       "      <th>match_id</th>\n",
       "      <th>player_slot</th>\n",
       "    </tr>\n",
       "  </thead>\n",
       "  <tbody>\n",
       "    <tr>\n",
       "      <th>0</th>\n",
       "      <td>113372833</td>\n",
       "      <td>3575051322</td>\n",
       "      <td>0</td>\n",
       "    </tr>\n",
       "    <tr>\n",
       "      <th>1</th>\n",
       "      <td>88826062</td>\n",
       "      <td>3575051322</td>\n",
       "      <td>1</td>\n",
       "    </tr>\n",
       "    <tr>\n",
       "      <th>2</th>\n",
       "      <td>91932652</td>\n",
       "      <td>3575051322</td>\n",
       "      <td>2</td>\n",
       "    </tr>\n",
       "    <tr>\n",
       "      <th>3</th>\n",
       "      <td>66620961</td>\n",
       "      <td>3575051322</td>\n",
       "      <td>3</td>\n",
       "    </tr>\n",
       "    <tr>\n",
       "      <th>4</th>\n",
       "      <td>91355855</td>\n",
       "      <td>3575051322</td>\n",
       "      <td>4</td>\n",
       "    </tr>\n",
       "    <tr>\n",
       "      <th>5</th>\n",
       "      <td>113331514</td>\n",
       "      <td>3575051322</td>\n",
       "      <td>128</td>\n",
       "    </tr>\n",
       "    <tr>\n",
       "      <th>6</th>\n",
       "      <td>92847434</td>\n",
       "      <td>3575051322</td>\n",
       "      <td>129</td>\n",
       "    </tr>\n",
       "    <tr>\n",
       "      <th>7</th>\n",
       "      <td>11550182</td>\n",
       "      <td>3575051322</td>\n",
       "      <td>130</td>\n",
       "    </tr>\n",
       "    <tr>\n",
       "      <th>8</th>\n",
       "      <td>5150808</td>\n",
       "      <td>3575051322</td>\n",
       "      <td>131</td>\n",
       "    </tr>\n",
       "    <tr>\n",
       "      <th>9</th>\n",
       "      <td>89269794</td>\n",
       "      <td>3575051322</td>\n",
       "      <td>132</td>\n",
       "    </tr>\n",
       "  </tbody>\n",
       "</table>\n",
       "</div>"
      ],
      "text/plain": [
       "   account_id    match_id  player_slot\n",
       "0   113372833  3575051322            0\n",
       "1    88826062  3575051322            1\n",
       "2    91932652  3575051322            2\n",
       "3    66620961  3575051322            3\n",
       "4    91355855  3575051322            4\n",
       "5   113331514  3575051322          128\n",
       "6    92847434  3575051322          129\n",
       "7    11550182  3575051322          130\n",
       "8     5150808  3575051322          131\n",
       "9    89269794  3575051322          132"
      ]
     },
     "execution_count": 7,
     "metadata": {},
     "output_type": "execute_result"
    }
   ],
   "source": [
    "df_matches[['account_id', 'match_id', 'player_slot']].head(10)"
   ]
  },
  {
   "cell_type": "markdown",
   "metadata": {},
   "source": [
    "Посчитаем кто больше всех нанес урона по вышкам в одном матче"
   ]
  },
  {
   "cell_type": "code",
   "execution_count": 20,
   "metadata": {},
   "outputs": [
    {
     "data": {
      "text/html": [
       "<div>\n",
       "<style scoped>\n",
       "    .dataframe tbody tr th:only-of-type {\n",
       "        vertical-align: middle;\n",
       "    }\n",
       "\n",
       "    .dataframe tbody tr th {\n",
       "        vertical-align: top;\n",
       "    }\n",
       "\n",
       "    .dataframe thead th {\n",
       "        text-align: right;\n",
       "    }\n",
       "</style>\n",
       "<table border=\"1\" class=\"dataframe\">\n",
       "  <thead>\n",
       "    <tr style=\"text-align: right;\">\n",
       "      <th></th>\n",
       "      <th>tower_damage</th>\n",
       "      <th>match_id</th>\n",
       "      <th>account_id</th>\n",
       "      <th>player_slot</th>\n",
       "    </tr>\n",
       "  </thead>\n",
       "  <tbody>\n",
       "    <tr>\n",
       "      <th>0</th>\n",
       "      <td>14054</td>\n",
       "      <td>3574758829</td>\n",
       "      <td>132851371</td>\n",
       "      <td>1</td>\n",
       "    </tr>\n",
       "    <tr>\n",
       "      <th>1</th>\n",
       "      <td>13820</td>\n",
       "      <td>3574591160</td>\n",
       "      <td>91406909</td>\n",
       "      <td>2</td>\n",
       "    </tr>\n",
       "    <tr>\n",
       "      <th>2</th>\n",
       "      <td>12647</td>\n",
       "      <td>3574751256</td>\n",
       "      <td>101446572</td>\n",
       "      <td>128</td>\n",
       "    </tr>\n",
       "    <tr>\n",
       "      <th>3</th>\n",
       "      <td>11195</td>\n",
       "      <td>3574906857</td>\n",
       "      <td>96189126</td>\n",
       "      <td>132</td>\n",
       "    </tr>\n",
       "    <tr>\n",
       "      <th>4</th>\n",
       "      <td>11045</td>\n",
       "      <td>3574654085</td>\n",
       "      <td>412753955</td>\n",
       "      <td>128</td>\n",
       "    </tr>\n",
       "  </tbody>\n",
       "</table>\n",
       "</div>"
      ],
      "text/plain": [
       "   tower_damage    match_id  account_id  player_slot\n",
       "0         14054  3574758829   132851371            1\n",
       "1         13820  3574591160    91406909            2\n",
       "2         12647  3574751256   101446572          128\n",
       "3         11195  3574906857    96189126          132\n",
       "4         11045  3574654085   412753955          128"
      ]
     },
     "execution_count": 20,
     "metadata": {},
     "output_type": "execute_result"
    }
   ],
   "source": [
    "df_best_tower_damage = (\n",
    "    df_matches\n",
    "    .sort_values('tower_damage', ascending=False)\n",
    "    [['tower_damage', 'match_id', 'account_id', 'player_slot']]\n",
    "    .reset_index(drop=True)\n",
    ")\n",
    "df_best_tower_damage.head()"
   ]
  },
  {
   "cell_type": "markdown",
   "metadata": {},
   "source": [
    "Посмотрим глазками на результат"
   ]
  },
  {
   "cell_type": "code",
   "execution_count": 21,
   "metadata": {},
   "outputs": [
    {
     "name": "stdout",
     "output_type": "stream",
     "text": [
      "https://www.dotabuff.com/matches/3574758829\n",
      "https://www.opendota.com/matches/3574758829\n"
     ]
    }
   ],
   "source": [
    "best_match_id = df_best_tower_damage.match_id[0]\n",
    "db_result_url = '{}{}'.format(dotabuff_match, best_match_id)\n",
    "result_url = '{}{}'.format(opendota_match, best_match_id)\n",
    "print(db_result_url)\n",
    "print(result_url)"
   ]
  },
  {
   "cell_type": "code",
   "execution_count": null,
   "metadata": {},
   "outputs": [],
   "source": []
  }
 ],
 "metadata": {
  "kernelspec": {
   "display_name": "Python 3",
   "language": "python",
   "name": "python3"
  },
  "language_info": {
   "codemirror_mode": {
    "name": "ipython",
    "version": 3
   },
   "file_extension": ".py",
   "mimetype": "text/x-python",
   "name": "python",
   "nbconvert_exporter": "python",
   "pygments_lexer": "ipython3",
   "version": "3.6.3"
  }
 },
 "nbformat": 4,
 "nbformat_minor": 2
}
