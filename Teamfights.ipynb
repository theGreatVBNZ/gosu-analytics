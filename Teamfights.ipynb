{
 "cells": [
  {
   "cell_type": "markdown",
   "metadata": {},
   "source": [
    "# Teamfights"
   ]
  },
  {
   "cell_type": "code",
   "execution_count": 1,
   "metadata": {},
   "outputs": [],
   "source": [
    "import requests\n",
    "import pandas as pd\n",
    "\n",
    "from opendota import(\n",
    "    query_opendota,\n",
    ")"
   ]
  },
  {
   "cell_type": "markdown",
   "metadata": {},
   "source": [
    "Выгружаем табличку с информацией по дракам"
   ]
  },
  {
   "cell_type": "code",
   "execution_count": 61,
   "metadata": {},
   "outputs": [],
   "source": [
    "ODOTA_QUERY = ''' \n",
    "SELECT\n",
    "    matches.match_id,\n",
    "    matches.teamfights,\n",
    "    player_matches.purchase_log,\n",
    "    player_matches.player_slot\n",
    "FROM \n",
    "    matches\n",
    "        JOIN \n",
    "            player_matches using(match_id)\n",
    "ORDER BY matches.match_id DESC NULLS LAST\n",
    "LIMIT 200\n",
    "'''"
   ]
  },
  {
   "cell_type": "code",
   "execution_count": 67,
   "metadata": {},
   "outputs": [],
   "source": [
    "def norm_slot(player_slot):\n",
    "    slot = player_slot if player_slot < 5 else player_slot - 123\n",
    "    return slot"
   ]
  },
  {
   "cell_type": "code",
   "execution_count": 68,
   "metadata": {},
   "outputs": [
    {
     "data": {
      "text/html": [
       "<div>\n",
       "<style scoped>\n",
       "    .dataframe tbody tr th:only-of-type {\n",
       "        vertical-align: middle;\n",
       "    }\n",
       "\n",
       "    .dataframe tbody tr th {\n",
       "        vertical-align: top;\n",
       "    }\n",
       "\n",
       "    .dataframe thead th {\n",
       "        text-align: right;\n",
       "    }\n",
       "</style>\n",
       "<table border=\"1\" class=\"dataframe\">\n",
       "  <thead>\n",
       "    <tr style=\"text-align: right;\">\n",
       "      <th></th>\n",
       "      <th>match_id</th>\n",
       "      <th>player_slot</th>\n",
       "      <th>purchase_log</th>\n",
       "      <th>teamfights</th>\n",
       "      <th>slot</th>\n",
       "    </tr>\n",
       "  </thead>\n",
       "  <tbody>\n",
       "    <tr>\n",
       "      <th>0</th>\n",
       "      <td>3575051322</td>\n",
       "      <td>3</td>\n",
       "      <td>[{'time': -89, 'key': 'boots'}, {'time': -89, ...</td>\n",
       "      <td>[{'start': 586, 'end': 631, 'last_death': 616,...</td>\n",
       "      <td>3</td>\n",
       "    </tr>\n",
       "    <tr>\n",
       "      <th>1</th>\n",
       "      <td>3575051322</td>\n",
       "      <td>4</td>\n",
       "      <td>[{'time': -89, 'key': 'ward_observer'}, {'time...</td>\n",
       "      <td>[{'start': 586, 'end': 631, 'last_death': 616,...</td>\n",
       "      <td>4</td>\n",
       "    </tr>\n",
       "    <tr>\n",
       "      <th>2</th>\n",
       "      <td>3575051322</td>\n",
       "      <td>129</td>\n",
       "      <td>[{'time': -89, 'key': 'stout_shield'}, {'time'...</td>\n",
       "      <td>[{'start': 586, 'end': 631, 'last_death': 616,...</td>\n",
       "      <td>6</td>\n",
       "    </tr>\n",
       "    <tr>\n",
       "      <th>3</th>\n",
       "      <td>3575051322</td>\n",
       "      <td>131</td>\n",
       "      <td>[{'time': -89, 'key': 'tpscroll'}, {'time': -8...</td>\n",
       "      <td>[{'start': 586, 'end': 631, 'last_death': 616,...</td>\n",
       "      <td>8</td>\n",
       "    </tr>\n",
       "    <tr>\n",
       "      <th>4</th>\n",
       "      <td>3575051322</td>\n",
       "      <td>132</td>\n",
       "      <td>[{'time': -89, 'key': 'tpscroll'}, {'time': -7...</td>\n",
       "      <td>[{'start': 586, 'end': 631, 'last_death': 616,...</td>\n",
       "      <td>9</td>\n",
       "    </tr>\n",
       "  </tbody>\n",
       "</table>\n",
       "</div>"
      ],
      "text/plain": [
       "     match_id  player_slot                                       purchase_log  \\\n",
       "0  3575051322            3  [{'time': -89, 'key': 'boots'}, {'time': -89, ...   \n",
       "1  3575051322            4  [{'time': -89, 'key': 'ward_observer'}, {'time...   \n",
       "2  3575051322          129  [{'time': -89, 'key': 'stout_shield'}, {'time'...   \n",
       "3  3575051322          131  [{'time': -89, 'key': 'tpscroll'}, {'time': -8...   \n",
       "4  3575051322          132  [{'time': -89, 'key': 'tpscroll'}, {'time': -7...   \n",
       "\n",
       "                                          teamfights  slot  \n",
       "0  [{'start': 586, 'end': 631, 'last_death': 616,...     3  \n",
       "1  [{'start': 586, 'end': 631, 'last_death': 616,...     4  \n",
       "2  [{'start': 586, 'end': 631, 'last_death': 616,...     6  \n",
       "3  [{'start': 586, 'end': 631, 'last_death': 616,...     8  \n",
       "4  [{'start': 586, 'end': 631, 'last_death': 616,...     9  "
      ]
     },
     "execution_count": 68,
     "metadata": {},
     "output_type": "execute_result"
    }
   ],
   "source": [
    "df_teamfights = query_opendota(ODOTA_QUERY)\n",
    "df_teamfights['slot'] = df_teamfights.apply((lambda row: norm_slot(row['player_slot'])), axis=1)\n",
    "df_teamfights.head()"
   ]
  },
  {
   "cell_type": "markdown",
   "metadata": {},
   "source": [
    "В teamfights содержится информация по всем дракам в игре"
   ]
  },
  {
   "cell_type": "markdown",
   "metadata": {},
   "source": [
    "Число тимфайтов в игре по мнению доты"
   ]
  },
  {
   "cell_type": "code",
   "execution_count": 53,
   "metadata": {},
   "outputs": [
    {
     "data": {
      "text/plain": [
       "4"
      ]
     },
     "execution_count": 53,
     "metadata": {},
     "output_type": "execute_result"
    }
   ],
   "source": [
    "len(df_teamfights.teamfights[0])"
   ]
  },
  {
   "cell_type": "markdown",
   "metadata": {},
   "source": [
    "Структура записи по тимфайту (рассматриваем самую первую драку в игре)"
   ]
  },
  {
   "cell_type": "code",
   "execution_count": 54,
   "metadata": {},
   "outputs": [
    {
     "data": {
      "text/plain": [
       "dict_keys(['start', 'end', 'last_death', 'deaths', 'players'])"
      ]
     },
     "execution_count": 54,
     "metadata": {},
     "output_type": "execute_result"
    }
   ],
   "source": [
    "tf = df_teamfights.teamfights[0][0]\n",
    "tf.keys()"
   ]
  },
  {
   "cell_type": "markdown",
   "metadata": {},
   "source": [
    "Посмотреть временные границы драки"
   ]
  },
  {
   "cell_type": "code",
   "execution_count": 55,
   "metadata": {},
   "outputs": [
    {
     "name": "stdout",
     "output_type": "stream",
     "text": [
      "586 631\n"
     ]
    }
   ],
   "source": [
    "print(tf['start'], tf['end'])"
   ]
  },
  {
   "cell_type": "markdown",
   "metadata": {},
   "source": [
    "В players содержится информация по всем 10 игрокам в матче"
   ]
  },
  {
   "cell_type": "code",
   "execution_count": 56,
   "metadata": {},
   "outputs": [
    {
     "data": {
      "text/plain": [
       "10"
      ]
     },
     "execution_count": 56,
     "metadata": {},
     "output_type": "execute_result"
    }
   ],
   "source": [
    "len(tf['players'])"
   ]
  },
  {
   "cell_type": "code",
   "execution_count": 57,
   "metadata": {},
   "outputs": [
    {
     "data": {
      "text/plain": [
       "dict_keys(['deaths_pos', 'ability_uses', 'item_uses', 'killed', 'deaths', 'buybacks', 'damage', 'healing', 'gold_delta', 'xp_delta', 'xp_start', 'xp_end'])"
      ]
     },
     "execution_count": 57,
     "metadata": {},
     "output_type": "execute_result"
    }
   ],
   "source": [
    "player_info = tf['players'][1]\n",
    "player_info.keys()"
   ]
  },
  {
   "cell_type": "markdown",
   "metadata": {},
   "source": [
    "Информация по игроку за период времени ```tf['start']``` по ```tf['end']```"
   ]
  },
  {
   "cell_type": "code",
   "execution_count": 58,
   "metadata": {},
   "outputs": [
    {
     "data": {
      "text/plain": [
       "{'ability_uses': {'puck_dream_coil': 1, 'puck_illusory_orb': 1},\n",
       " 'buybacks': 0,\n",
       " 'damage': 434,\n",
       " 'deaths': 1,\n",
       " 'deaths_pos': {'168': {'92': 1}},\n",
       " 'gold_delta': -16,\n",
       " 'healing': 0,\n",
       " 'item_uses': {'tango': 1},\n",
       " 'killed': {},\n",
       " 'xp_delta': 95,\n",
       " 'xp_end': 4671,\n",
       " 'xp_start': 4576}"
      ]
     },
     "execution_count": 58,
     "metadata": {},
     "output_type": "execute_result"
    }
   ],
   "source": [
    "player_info"
   ]
  },
  {
   "cell_type": "markdown",
   "metadata": {},
   "source": [
    "Я знаю границы тимфайта, как теперь понять, что купили перед дракой?"
   ]
  },
  {
   "cell_type": "code",
   "execution_count": 71,
   "metadata": {},
   "outputs": [],
   "source": [
    "purchase_log = df_teamfights.purchase_log[0]"
   ]
  },
  {
   "cell_type": "code",
   "execution_count": 60,
   "metadata": {},
   "outputs": [
    {
     "data": {
      "text/plain": [
       "[{'key': 'boots', 'time': -89},\n",
       " {'key': 'tango', 'time': -89},\n",
       " {'key': 'clarity', 'time': -89},\n",
       " {'key': 'tpscroll', 'time': -89},\n",
       " {'key': 'flask', 'time': 179},\n",
       " {'key': 'orb_of_venom', 'time': 205},\n",
       " {'key': 'wind_lace', 'time': 277},\n",
       " {'key': 'clarity', 'time': 309},\n",
       " {'key': 'branches', 'time': 310},\n",
       " {'key': 'magic_stick', 'time': 419},\n",
       " {'key': 'branches', 'time': 420},\n",
       " {'key': 'enchanted_mango', 'time': 422},\n",
       " {'key': 'magic_wand', 'time': 441},\n",
       " {'key': 'tpscroll', 'time': 580},\n",
       " {'key': 'tpscroll', 'time': 670},\n",
       " {'key': 'ring_of_regen', 'time': 784},\n",
       " {'key': 'tranquil_boots', 'time': 785},\n",
       " {'key': 'infused_raindrop', 'time': 786},\n",
       " {'key': 'tpscroll', 'time': 787},\n",
       " {'key': 'tpscroll', 'time': 995},\n",
       " {'key': 'tpscroll', 'time': 1073},\n",
       " {'key': 'blink', 'time': 1141},\n",
       " {'key': 'tpscroll', 'time': 1159},\n",
       " {'key': 'smoke_of_deceit', 'time': 1171},\n",
       " {'key': 'tpscroll', 'time': 1293}]"
      ]
     },
     "execution_count": 60,
     "metadata": {},
     "output_type": "execute_result"
    }
   ],
   "source": [
    "purchase_log"
   ]
  },
  {
   "cell_type": "code",
   "execution_count": 74,
   "metadata": {},
   "outputs": [
    {
     "name": "stdout",
     "output_type": "stream",
     "text": [
      "586 631\n"
     ]
    }
   ],
   "source": [
    "tf = df_teamfights.teamfights[0][0]\n",
    "print(tf['start'], tf['end'])"
   ]
  },
  {
   "cell_type": "code",
   "execution_count": 76,
   "metadata": {},
   "outputs": [
    {
     "data": {
      "text/plain": [
       "[{'key': 'boots', 'time': -89},\n",
       " {'key': 'tango', 'time': -89},\n",
       " {'key': 'clarity', 'time': -89},\n",
       " {'key': 'tpscroll', 'time': -89},\n",
       " {'key': 'flask', 'time': 179},\n",
       " {'key': 'orb_of_venom', 'time': 205},\n",
       " {'key': 'wind_lace', 'time': 277},\n",
       " {'key': 'clarity', 'time': 309},\n",
       " {'key': 'branches', 'time': 310},\n",
       " {'key': 'magic_stick', 'time': 419},\n",
       " {'key': 'branches', 'time': 420},\n",
       " {'key': 'enchanted_mango', 'time': 422},\n",
       " {'key': 'magic_wand', 'time': 441},\n",
       " {'key': 'tpscroll', 'time': 580}]"
      ]
     },
     "execution_count": 76,
     "metadata": {},
     "output_type": "execute_result"
    }
   ],
   "source": [
    "bought_before_fight = []\n",
    "for purchase in purchase_log:\n",
    "    if purchase['time'] < tf['start']:\n",
    "        bought_before_fight.append(purchase)\n",
    "bought_before_fight"
   ]
  },
  {
   "cell_type": "code",
   "execution_count": null,
   "metadata": {},
   "outputs": [],
   "source": []
  }
 ],
 "metadata": {
  "kernelspec": {
   "display_name": "Python 3",
   "language": "python",
   "name": "python3"
  },
  "language_info": {
   "codemirror_mode": {
    "name": "ipython",
    "version": 3
   },
   "file_extension": ".py",
   "mimetype": "text/x-python",
   "name": "python",
   "nbconvert_exporter": "python",
   "pygments_lexer": "ipython3",
   "version": "3.6.3"
  }
 },
 "nbformat": 4,
 "nbformat_minor": 2
}
